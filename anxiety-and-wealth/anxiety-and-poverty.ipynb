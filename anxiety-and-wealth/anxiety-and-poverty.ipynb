{
 "cells": [
  {
   "cell_type": "code",
   "execution_count": 1,
   "metadata": {},
   "outputs": [],
   "source": [
    "import pandas as pd\n",
    "import io\n",
    "import requests\n",
    "from IPython.core.display import display, HTML\n",
    "import numpy as np\n",
    "import matplotlib.pyplot as plt\n",
    "import scipy\n",
    "import seaborn as sns\n",
    "%matplotlib inline\n",
    "%load_ext rpy2.ipython\n",
    "\n",
    "pd.options.display.max_columns = 50"
   ]
  },
  {
   "cell_type": "markdown",
   "metadata": {},
   "source": [
    "# Data Sources (references):\n",
    "- country code list: https://pkgstore.datahub.io/JohnSnowLabs/country-and-continent-codes-list/country-and-continent-codes-list-csv_csv/data/b7876b7f496677669644f3d1069d3121/country-and-continent-codes-list-csv_csv.csv\n",
    "    \n",
    "- wealthy by country: https://en.wikipedia.org/wiki/List_of_countries_by_wealth_per_adult\n",
    "\n",
    "- DALYs (anxiety-related) by country: https://ourworldindata.org/mental-health"
   ]
  },
  {
   "cell_type": "markdown",
   "metadata": {},
   "source": [
    "# Data Import"
   ]
  },
  {
   "cell_type": "code",
   "execution_count": 6,
   "metadata": {},
   "outputs": [
    {
     "data": {
      "text/html": [
       "<div>\n",
       "<style scoped>\n",
       "    .dataframe tbody tr th:only-of-type {\n",
       "        vertical-align: middle;\n",
       "    }\n",
       "\n",
       "    .dataframe tbody tr th {\n",
       "        vertical-align: top;\n",
       "    }\n",
       "\n",
       "    .dataframe thead th {\n",
       "        text-align: right;\n",
       "    }\n",
       "</style>\n",
       "<table border=\"1\" class=\"dataframe\">\n",
       "  <thead>\n",
       "    <tr style=\"text-align: right;\">\n",
       "      <th></th>\n",
       "      <th>Entity</th>\n",
       "      <th>Code</th>\n",
       "      <th>Year</th>\n",
       "      <th>DALYs (Disability-Adjusted Life Years) - Anxiety disorders - Sex: Both - Age: Age-standardized (Rate)</th>\n",
       "    </tr>\n",
       "  </thead>\n",
       "  <tbody>\n",
       "    <tr>\n",
       "      <th>0</th>\n",
       "      <td>Afghanistan</td>\n",
       "      <td>AFG</td>\n",
       "      <td>1990</td>\n",
       "      <td>439.814752</td>\n",
       "    </tr>\n",
       "    <tr>\n",
       "      <th>1</th>\n",
       "      <td>Afghanistan</td>\n",
       "      <td>AFG</td>\n",
       "      <td>1991</td>\n",
       "      <td>439.658790</td>\n",
       "    </tr>\n",
       "    <tr>\n",
       "      <th>2</th>\n",
       "      <td>Afghanistan</td>\n",
       "      <td>AFG</td>\n",
       "      <td>1992</td>\n",
       "      <td>440.462746</td>\n",
       "    </tr>\n",
       "    <tr>\n",
       "      <th>3</th>\n",
       "      <td>Afghanistan</td>\n",
       "      <td>AFG</td>\n",
       "      <td>1993</td>\n",
       "      <td>440.429163</td>\n",
       "    </tr>\n",
       "    <tr>\n",
       "      <th>4</th>\n",
       "      <td>Afghanistan</td>\n",
       "      <td>AFG</td>\n",
       "      <td>1994</td>\n",
       "      <td>440.480624</td>\n",
       "    </tr>\n",
       "  </tbody>\n",
       "</table>\n",
       "</div>"
      ],
      "text/plain": [
       "        Entity Code  Year  \\\n",
       "0  Afghanistan  AFG  1990   \n",
       "1  Afghanistan  AFG  1991   \n",
       "2  Afghanistan  AFG  1992   \n",
       "3  Afghanistan  AFG  1993   \n",
       "4  Afghanistan  AFG  1994   \n",
       "\n",
       "   DALYs (Disability-Adjusted Life Years) - Anxiety disorders - Sex: Both - Age: Age-standardized (Rate)  \n",
       "0                                         439.814752                                                      \n",
       "1                                         439.658790                                                      \n",
       "2                                         440.462746                                                      \n",
       "3                                         440.429163                                                      \n",
       "4                                         440.480624                                                      "
      ]
     },
     "execution_count": 6,
     "metadata": {},
     "output_type": "execute_result"
    }
   ],
   "source": [
    "dalys = pd.read_csv('../_data/anxiety-disorder-dalys-age-standardized-rate.csv')\n",
    "\n",
    "dalys.head()"
   ]
  },
  {
   "cell_type": "code",
   "execution_count": 7,
   "metadata": {},
   "outputs": [
    {
     "data": {
      "text/plain": [
       "Entity                                                                                                   0.000000\n",
       "Code                                                                                                     0.151515\n",
       "Year                                                                                                     0.000000\n",
       "DALYs (Disability-Adjusted Life Years) - Anxiety disorders - Sex: Both - Age: Age-standardized (Rate)    0.000000\n",
       "dtype: float64"
      ]
     },
     "execution_count": 7,
     "metadata": {},
     "output_type": "execute_result"
    }
   ],
   "source": [
    "dalys.isna().sum() / len(dalys)"
   ]
  },
  {
   "cell_type": "markdown",
   "metadata": {},
   "source": [
    "Question: is poverty and anxiety correlated at the national level?\n",
    "\n",
    "Type of problem: relationship (correlation)\n",
    "\n",
    "Methods applicable: linear regression, correlation coefficient, ???"
   ]
  },
  {
   "cell_type": "markdown",
   "metadata": {},
   "source": [
    "We need to get some data that measures wealth/poverty at the national level.\n",
    "\n",
    "Taken from: https://en.wikipedia.org/wiki/List_of_countries_by_wealth_per_adult"
   ]
  },
  {
   "cell_type": "code",
   "execution_count": 8,
   "metadata": {},
   "outputs": [],
   "source": [
    "wealth = pd.read_csv('../_data/median-wealth-per-adult-by-country-2019.csv')"
   ]
  },
  {
   "cell_type": "code",
   "execution_count": 9,
   "metadata": {},
   "outputs": [
    {
     "data": {
      "text/html": [
       "<div>\n",
       "<style scoped>\n",
       "    .dataframe tbody tr th:only-of-type {\n",
       "        vertical-align: middle;\n",
       "    }\n",
       "\n",
       "    .dataframe tbody tr th {\n",
       "        vertical-align: top;\n",
       "    }\n",
       "\n",
       "    .dataframe thead th {\n",
       "        text-align: right;\n",
       "    }\n",
       "</style>\n",
       "<table border=\"1\" class=\"dataframe\">\n",
       "  <thead>\n",
       "    <tr style=\"text-align: right;\">\n",
       "      <th></th>\n",
       "      <th>Country</th>\n",
       "      <th>Median wealth per adult (US dollars)</th>\n",
       "      <th>Mean wealth per adult (US dollars)</th>\n",
       "      <th>Adult population (thousands)</th>\n",
       "    </tr>\n",
       "  </thead>\n",
       "  <tbody>\n",
       "    <tr>\n",
       "      <th>0</th>\n",
       "      <td>Afghanistan</td>\n",
       "      <td>640</td>\n",
       "      <td>1463</td>\n",
       "      <td>16,838</td>\n",
       "    </tr>\n",
       "    <tr>\n",
       "      <th>1</th>\n",
       "      <td>Albania</td>\n",
       "      <td>14,731</td>\n",
       "      <td>31,366</td>\n",
       "      <td>2,225</td>\n",
       "    </tr>\n",
       "    <tr>\n",
       "      <th>2</th>\n",
       "      <td>Algeria</td>\n",
       "      <td>3,267</td>\n",
       "      <td>9,348</td>\n",
       "      <td>26,983</td>\n",
       "    </tr>\n",
       "    <tr>\n",
       "      <th>3</th>\n",
       "      <td>Angola</td>\n",
       "      <td>1,370</td>\n",
       "      <td>3,649</td>\n",
       "      <td>13,403</td>\n",
       "    </tr>\n",
       "    <tr>\n",
       "      <th>4</th>\n",
       "      <td>Antigua and Barbuda</td>\n",
       "      <td>6,961</td>\n",
       "      <td>24,964</td>\n",
       "      <td>71</td>\n",
       "    </tr>\n",
       "  </tbody>\n",
       "</table>\n",
       "</div>"
      ],
      "text/plain": [
       "               Country Median wealth per adult (US dollars)  \\\n",
       "0          Afghanistan                                  640   \n",
       "1              Albania                               14,731   \n",
       "2              Algeria                                3,267   \n",
       "3               Angola                                1,370   \n",
       "4  Antigua and Barbuda                                6,961   \n",
       "\n",
       "  Mean wealth per adult (US dollars) Adult population (thousands)  \n",
       "0                               1463                       16,838  \n",
       "1                             31,366                        2,225  \n",
       "2                              9,348                       26,983  \n",
       "3                              3,649                       13,403  \n",
       "4                             24,964                           71  "
      ]
     },
     "execution_count": 9,
     "metadata": {},
     "output_type": "execute_result"
    }
   ],
   "source": [
    "wealth.head()"
   ]
  },
  {
   "cell_type": "code",
   "execution_count": 10,
   "metadata": {},
   "outputs": [
    {
     "data": {
      "text/plain": [
       "Country                                 0.0\n",
       "Median wealth per adult (US dollars)    0.0\n",
       "Mean wealth per adult (US dollars)      0.0\n",
       "Adult population (thousands)            0.0\n",
       "dtype: float64"
      ]
     },
     "execution_count": 10,
     "metadata": {},
     "output_type": "execute_result"
    }
   ],
   "source": [
    "wealth.isna().sum() / len(wealth)"
   ]
  },
  {
   "cell_type": "code",
   "execution_count": 11,
   "metadata": {},
   "outputs": [],
   "source": [
    "df = pd.merge(left=dalys, right=wealth, how='inner', left_on='Entity', right_on='Country')"
   ]
  },
  {
   "cell_type": "code",
   "execution_count": 12,
   "metadata": {},
   "outputs": [],
   "source": [
    "df = df.rename(columns={\n",
    "    'DALYs (Disability-Adjusted Life Years) - Anxiety disorders - Sex: Both - Age: Age-standardized (Rate)':'DALYs',\n",
    "})"
   ]
  },
  {
   "cell_type": "code",
   "execution_count": 13,
   "metadata": {},
   "outputs": [
    {
     "data": {
      "text/plain": [
       "(4592, 8)"
      ]
     },
     "execution_count": 13,
     "metadata": {},
     "output_type": "execute_result"
    }
   ],
   "source": [
    "df.shape"
   ]
  },
  {
   "cell_type": "code",
   "execution_count": 14,
   "metadata": {},
   "outputs": [
    {
     "data": {
      "text/plain": [
       "Entity                                  0.0\n",
       "Code                                    0.0\n",
       "Year                                    0.0\n",
       "DALYs                                   0.0\n",
       "Country                                 0.0\n",
       "Median wealth per adult (US dollars)    0.0\n",
       "Mean wealth per adult (US dollars)      0.0\n",
       "Adult population (thousands)            0.0\n",
       "dtype: float64"
      ]
     },
     "execution_count": 14,
     "metadata": {},
     "output_type": "execute_result"
    }
   ],
   "source": [
    "df.isna().sum() / len(df) * 100"
   ]
  },
  {
   "cell_type": "code",
   "execution_count": 15,
   "metadata": {},
   "outputs": [],
   "source": [
    "# df[['Entity','Year']].groupby('Year').count().plot.bar();"
   ]
  },
  {
   "cell_type": "code",
   "execution_count": 16,
   "metadata": {},
   "outputs": [],
   "source": [
    "x_label = 'Median wealth per adult (US dollars)'\n",
    "y_label = 'DALYs'"
   ]
  },
  {
   "cell_type": "code",
   "execution_count": 17,
   "metadata": {},
   "outputs": [],
   "source": [
    "df[x_label] = df[x_label].apply(lambda x: float(str(x).replace(',','')))"
   ]
  },
  {
   "cell_type": "code",
   "execution_count": 18,
   "metadata": {},
   "outputs": [
    {
     "data": {
      "text/plain": [
       "2017"
      ]
     },
     "execution_count": 18,
     "metadata": {},
     "output_type": "execute_result"
    }
   ],
   "source": [
    "df['Year'].max()"
   ]
  },
  {
   "cell_type": "markdown",
   "metadata": {},
   "source": [
    "Look at relationship for 2017..."
   ]
  },
  {
   "cell_type": "code",
   "execution_count": 19,
   "metadata": {},
   "outputs": [
    {
     "data": {
      "image/png": "[encoded data removed]",
      "text/plain": [
       "<Figure size 504x504 with 3 Axes>"
      ]
     },
     "metadata": {
      "needs_background": "light"
     },
     "output_type": "display_data"
    }
   ],
   "source": [
    "dft = df[df['Year'] == df['Year'].max()]\n",
    "g = sns.jointplot(data=dft, x=x_label, y=y_label, kind=\"reg\", truncate=False, color=\"m\", height=7)"
   ]
  },
  {
   "cell_type": "markdown",
   "metadata": {},
   "source": [
    "Seems to be a possible correlation, but the data in the x and y axes are not normally distributed (especially the x-axis, median wealth, which is highly skewed to the right). So i'm not sure that a linear regression is really a valid model here. "
   ]
  },
  {
   "cell_type": "markdown",
   "metadata": {},
   "source": [
    "What if we split this up by continent? Does the distribution (of residuals) become more normal?"
   ]
  },
  {
   "cell_type": "code",
   "execution_count": 20,
   "metadata": {},
   "outputs": [
    {
     "data": {
      "text/html": [
       "<div>\n",
       "<style scoped>\n",
       "    .dataframe tbody tr th:only-of-type {\n",
       "        vertical-align: middle;\n",
       "    }\n",
       "\n",
       "    .dataframe tbody tr th {\n",
       "        vertical-align: top;\n",
       "    }\n",
       "\n",
       "    .dataframe thead th {\n",
       "        text-align: right;\n",
       "    }\n",
       "</style>\n",
       "<table border=\"1\" class=\"dataframe\">\n",
       "  <thead>\n",
       "    <tr style=\"text-align: right;\">\n",
       "      <th></th>\n",
       "      <th>Continent_Name</th>\n",
       "      <th>Continent_Code</th>\n",
       "      <th>Country_Name</th>\n",
       "      <th>Two_Letter_Country_Code</th>\n",
       "      <th>Three_Letter_Country_Code</th>\n",
       "      <th>Country_Number</th>\n",
       "    </tr>\n",
       "  </thead>\n",
       "  <tbody>\n",
       "    <tr>\n",
       "      <th>0</th>\n",
       "      <td>Asia</td>\n",
       "      <td>AS</td>\n",
       "      <td>Afghanistan, Islamic Republic of</td>\n",
       "      <td>AF</td>\n",
       "      <td>AFG</td>\n",
       "      <td>4.0</td>\n",
       "    </tr>\n",
       "    <tr>\n",
       "      <th>1</th>\n",
       "      <td>Europe</td>\n",
       "      <td>EU</td>\n",
       "      <td>Albania, Republic of</td>\n",
       "      <td>AL</td>\n",
       "      <td>ALB</td>\n",
       "      <td>8.0</td>\n",
       "    </tr>\n",
       "    <tr>\n",
       "      <th>2</th>\n",
       "      <td>Antarctica</td>\n",
       "      <td>AN</td>\n",
       "      <td>Antarctica (the territory South of 60 deg S)</td>\n",
       "      <td>AQ</td>\n",
       "      <td>ATA</td>\n",
       "      <td>10.0</td>\n",
       "    </tr>\n",
       "    <tr>\n",
       "      <th>3</th>\n",
       "      <td>Africa</td>\n",
       "      <td>AF</td>\n",
       "      <td>Algeria, People's Democratic Republic of</td>\n",
       "      <td>DZ</td>\n",
       "      <td>DZA</td>\n",
       "      <td>12.0</td>\n",
       "    </tr>\n",
       "    <tr>\n",
       "      <th>4</th>\n",
       "      <td>Oceania</td>\n",
       "      <td>OC</td>\n",
       "      <td>American Samoa</td>\n",
       "      <td>AS</td>\n",
       "      <td>ASM</td>\n",
       "      <td>16.0</td>\n",
       "    </tr>\n",
       "  </tbody>\n",
       "</table>\n",
       "</div>"
      ],
      "text/plain": [
       "  Continent_Name Continent_Code                                  Country_Name  \\\n",
       "0           Asia             AS              Afghanistan, Islamic Republic of   \n",
       "1         Europe             EU                          Albania, Republic of   \n",
       "2     Antarctica             AN  Antarctica (the territory South of 60 deg S)   \n",
       "3         Africa             AF      Algeria, People's Democratic Republic of   \n",
       "4        Oceania             OC                                American Samoa   \n",
       "\n",
       "  Two_Letter_Country_Code Three_Letter_Country_Code  Country_Number  \n",
       "0                      AF                       AFG             4.0  \n",
       "1                      AL                       ALB             8.0  \n",
       "2                      AQ                       ATA            10.0  \n",
       "3                      DZ                       DZA            12.0  \n",
       "4                      AS                       ASM            16.0  "
      ]
     },
     "execution_count": 20,
     "metadata": {},
     "output_type": "execute_result"
    }
   ],
   "source": [
    "# for CSV\n",
    "url_data = \"https://pkgstore.datahub.io/JohnSnowLabs/country-and-continent-codes-list/country-and-continent-codes-list-csv_csv/data/b7876b7f496677669644f3d1069d3121/country-and-continent-codes-list-csv_csv.csv\"\n",
    "r = requests.get(url_data).content\n",
    "country = pd.read_csv(io.StringIO(r.decode('utf-8')))\n",
    "country.head()"
   ]
  },
  {
   "cell_type": "code",
   "execution_count": 21,
   "metadata": {},
   "outputs": [],
   "source": [
    "country = country[['Continent_Name','Three_Letter_Country_Code']]"
   ]
  },
  {
   "cell_type": "code",
   "execution_count": 22,
   "metadata": {},
   "outputs": [],
   "source": [
    "df = df.merge(country, how='left', left_on='Code', right_on='Three_Letter_Country_Code')"
   ]
  },
  {
   "cell_type": "code",
   "execution_count": 23,
   "metadata": {},
   "outputs": [
    {
     "data": {
      "image/png": "[encoded data removed]",
      "text/plain": [
       "<Figure size 504x504 with 3 Axes>"
      ]
     },
     "metadata": {
      "needs_background": "light"
     },
     "output_type": "display_data"
    }
   ],
   "source": [
    "# look at relationship between dependent and independent variable for Europe, 2017\n",
    "dft = df[(df['Year'] == df['Year'].max()) & (df['Continent_Name']=='Europe')]\n",
    "g = sns.jointplot(data=dft, x=x_label, y=y_label, kind=\"reg\", truncate=False, color=\"m\", height=7)"
   ]
  },
  {
   "cell_type": "markdown",
   "metadata": {},
   "source": [
    "Interesting. one outlier is skeweing the regression line - I wonder if we change the cost function can we get a more general fit that is robust to outliers?"
   ]
  },
  {
   "cell_type": "markdown",
   "metadata": {},
   "source": [
    "Let's try to fit this regression using R:"
   ]
  },
  {
   "cell_type": "code",
   "execution_count": 75,
   "metadata": {},
   "outputs": [],
   "source": [
    "df_r = dft[[x_label,y_label]]\n",
    "df_r.shape"
   ]
  },
  {
   "cell_type": "code",
   "execution_count": 81,
   "metadata": {},
   "outputs": [
    {
     "name": "stderr",
     "output_type": "stream",
     "text": [
      "R[write to console]: Error in `contrasts<-`(`*tmp*`, value = contr.funs[1 + isOF[nn]]) : \n",
      "  contrasts can be applied only to factors with 2 or more levels\n",
      "\n",
      "R[write to console]: In addition: \n",
      "R[write to console]: Warning message:\n",
      "\n",
      "R[write to console]: In storage.mode(v) <- \"double\" :\n",
      "R[write to console]:  NAs introduced by coercion\n",
      "\n"
     ]
    },
    {
     "name": "stdout",
     "output_type": "stream",
     "text": [
      "\n",
      "Error in `contrasts<-`(`*tmp*`, value = contr.funs[1 + isOF[nn]]) : \n",
      "  contrasts can be applied only to factors with 2 or more levels\n"
     ]
    }
   ],
   "source": [
    "%%R -i df_r,x_label,y_label\n",
    "# summary(lm(y_label ~ x_label, data = df))\n",
    "lm(y_label ~ x_label, data = df_r)"
   ]
  },
  {
   "cell_type": "markdown",
   "metadata": {},
   "source": [
    "Bah can't get it to work. What about with some made up data?"
   ]
  },
  {
   "cell_type": "code",
   "execution_count": 80,
   "metadata": {},
   "outputs": [
    {
     "name": "stdout",
     "output_type": "stream",
     "text": [
      "\n",
      "Call:\n",
      "lm(formula = Y ~ X)\n",
      "\n",
      "Residuals:\n",
      "    1     2     3     4 \n",
      " 0.88 -0.24 -2.28  1.64 \n",
      "\n",
      "Coefficients:\n",
      "            Estimate Std. Error t value Pr(>|t|)\n",
      "(Intercept)   0.0800     2.3000   0.035    0.975\n",
      "X             1.0400     0.4822   2.157    0.164\n",
      "\n",
      "Residual standard error: 2.088 on 2 degrees of freedom\n",
      "Multiple R-squared:  0.6993,\tAdjusted R-squared:  0.549 \n",
      "F-statistic: 4.651 on 1 and 2 DF,  p-value: 0.1638\n",
      "\n"
     ]
    }
   ],
   "source": [
    "%%R\n",
    "X=c(1,4,5,7)\n",
    "Y = c(2,4,3,9)\n",
    "summary(lm(Y~X))"
   ]
  },
  {
   "cell_type": "markdown",
   "metadata": {},
   "source": [
    "Dunno why it's not working in R. Let's go back to Python."
   ]
  },
  {
   "cell_type": "code",
   "execution_count": 82,
   "metadata": {},
   "outputs": [],
   "source": [
    "# scipy\n",
    "# slope, intercept, r_value, p_value, std_err = scipy.stats.linregress(x,y)"
   ]
  },
  {
   "cell_type": "code",
   "execution_count": 83,
   "metadata": {},
   "outputs": [],
   "source": [
    "import statsmodels.api as sm"
   ]
  },
  {
   "cell_type": "code",
   "execution_count": 84,
   "metadata": {},
   "outputs": [
    {
     "name": "stdout",
     "output_type": "stream",
     "text": [
      "                                 OLS Regression Results                                \n",
      "=======================================================================================\n",
      "Dep. Variable:                  DALYs   R-squared (uncentered):                   0.637\n",
      "Model:                            OLS   Adj. R-squared (uncentered):              0.628\n",
      "Method:                 Least Squares   F-statistic:                              75.32\n",
      "Date:                Tue, 20 Oct 2020   Prob (F-statistic):                    5.30e-11\n",
      "Time:                        19:22:40   Log-Likelihood:                         -303.18\n",
      "No. Observations:                  44   AIC:                                      608.4\n",
      "Df Residuals:                      43   BIC:                                      610.2\n",
      "Df Model:                           1                                                  \n",
      "Covariance Type:            nonrobust                                                  \n",
      "========================================================================================================\n",
      "                                           coef    std err          t      P>|t|      [0.025      0.975]\n",
      "--------------------------------------------------------------------------------------------------------\n",
      "Median wealth per adult (US dollars)     0.0046      0.001      8.679      0.000       0.004       0.006\n",
      "==============================================================================\n",
      "Omnibus:                       32.174   Durbin-Watson:                   1.136\n",
      "Prob(Omnibus):                  0.000   Jarque-Bera (JB):               77.508\n",
      "Skew:                          -1.950   Prob(JB):                     1.48e-17\n",
      "Kurtosis:                       8.202   Cond. No.                         1.00\n",
      "==============================================================================\n",
      "\n",
      "Warnings:\n",
      "[1] Standard Errors assume that the covariance matrix of the errors is correctly specified.\n"
     ]
    }
   ],
   "source": [
    "# statsmodels\n",
    "# spector_data.exog = sm.add_constant(spector_data.exog, prepend=False)\n",
    "\n",
    "# Fit and summarize OLS model\n",
    "mod = sm.OLS(dft[y_label], dft[x_label])\n",
    "\n",
    "res = mod.fit()\n",
    "\n",
    "print(res.summary())"
   ]
  },
  {
   "cell_type": "markdown",
   "metadata": {},
   "source": [
    "Assumptions Made in Linear-Regression Models\n",
    "\n",
    "(1) For any given value of x, the corresponding value of y has an average value α + βx, which is a linear function of x.\n",
    "\n",
    "(2) For any given value of x, the corresponding value of y is normally distrib- uted about α + βx with the same variance σ2 for any x.\n",
    "\n",
    "(3) For any two data points (x1, y1), (x2, y2), the error terms e1, e2 are independent of each other."
   ]
  },
  {
   "cell_type": "code",
   "execution_count": null,
   "metadata": {},
   "outputs": [],
   "source": []
  }
 ],
 "metadata": {
  "kernelspec": {
   "display_name": "Python 3",
   "language": "python",
   "name": "python3"
  },
  "language_info": {
   "codemirror_mode": {
    "name": "ipython",
    "version": 3
   },
   "file_extension": ".py",
   "mimetype": "text/x-python",
   "name": "python",
   "nbconvert_exporter": "python",
   "pygments_lexer": "ipython3",
   "version": "3.7.7"
  }
 },
 "nbformat": 4,
 "nbformat_minor": 4
}
