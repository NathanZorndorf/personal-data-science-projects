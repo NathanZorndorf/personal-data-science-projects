{
 "cells": [
  {
   "cell_type": "markdown",
   "metadata": {},
   "source": [
    "Examples taken from https://stats.idre.ucla.edu/other/dae/"
   ]
  },
  {
   "cell_type": "markdown",
   "metadata": {},
   "source": [
    "### One-Sample Case"
   ]
  },
  {
   "cell_type": "code",
   "execution_count": 16,
   "metadata": {},
   "outputs": [],
   "source": [
    "alpha = 0.05\n",
    "power = 0.9\n",
    "beta = 1 - power\n",
    "u = 850\n",
    "m = 810\n",
    "sd = 50"
   ]
  },
  {
   "cell_type": "code",
   "execution_count": 17,
   "metadata": {},
   "outputs": [
    {
     "data": {
      "text/plain": [
       "\n",
       "     One-sample t test power calculation \n",
       "\n",
       "              n = 18.44623\n",
       "          delta = 40\n",
       "             sd = 50\n",
       "      sig.level = 0.05\n",
       "          power = 0.9\n",
       "    alternative = two.sided\n"
      ]
     },
     "metadata": {},
     "output_type": "display_data"
    }
   ],
   "source": [
    "power.t.test(n = NULL, \n",
    "             delta = u - m, \n",
    "             sd = sd, \n",
    "             sig.level = alpha, \n",
    "             power = power, \n",
    "             type = \"one.sample\", \n",
    "             alternative = \"two.sided\")"
   ]
  },
  {
   "cell_type": "markdown",
   "metadata": {},
   "source": [
    "### Two-Sample Case, Paired"
   ]
  },
  {
   "cell_type": "markdown",
   "metadata": {},
   "source": [
    "From https://stats.idre.ucla.edu/r/dae/power-analysis-for-paired-sample-t-test/\n",
    "\n",
    "H<sub>0</sub>: delta == -5 pounds, due to the program<br>\n",
    "H<sub>a</sub>: delta != -5 pounds, due to the program<br>"
   ]
  },
  {
   "cell_type": "code",
   "execution_count": 29,
   "metadata": {},
   "outputs": [
    {
     "data": {
      "text/plain": [
       "\n",
       "     Paired t test power calculation \n",
       "\n",
       "              n = 9.937864\n",
       "          delta = 5\n",
       "             sd = 5\n",
       "      sig.level = 0.05\n",
       "          power = 0.8\n",
       "    alternative = two.sided\n",
       "\n",
       "NOTE: n is number of *pairs*, sd is std.dev. of *differences* within pairs\n"
      ]
     },
     "metadata": {},
     "output_type": "display_data"
    }
   ],
   "source": [
    "alpha = 0.05\n",
    "power = 0.8\n",
    "delta = 0 - 5\n",
    "sd = 5\n",
    "\n",
    "power.t.test(n = NULL, \n",
    "             delta = delta, \n",
    "             sd = sd, \n",
    "             sig.level = alpha, \n",
    "             power = power, \n",
    "             type = \"paired\", \n",
    "             alternative = \"two.sided\")"
   ]
  },
  {
   "cell_type": "code",
   "execution_count": null,
   "metadata": {},
   "outputs": [],
   "source": []
  }
 ],
 "metadata": {
  "kernelspec": {
   "display_name": "R",
   "language": "R",
   "name": "ir"
  },
  "language_info": {
   "codemirror_mode": "r",
   "file_extension": ".r",
   "mimetype": "text/x-r-source",
   "name": "R",
   "pygments_lexer": "r",
   "version": "3.6.1"
  }
 },
 "nbformat": 4,
 "nbformat_minor": 4
}
