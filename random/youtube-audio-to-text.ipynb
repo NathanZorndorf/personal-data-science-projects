{
 "cells": [
  {
   "cell_type": "code",
   "execution_count": 7,
   "metadata": {},
   "outputs": [],
   "source": [
    "import re"
   ]
  },
  {
   "cell_type": "code",
   "execution_count": 4,
   "metadata": {},
   "outputs": [],
   "source": [
    "fp_in = r'./data/AJAHN CHAH - THE NATURAL MIND.txt'\n",
    "fp_out = r'./data/AJAHN CHAH - THE NATURAL MIND OUTPUT.txt'"
   ]
  },
  {
   "cell_type": "code",
   "execution_count": 39,
   "metadata": {},
   "outputs": [],
   "source": [
    "with open(fp_in, 'r') as infile, open(fp_out, 'w') as outfile:\n",
    "    data = infile.read()\n",
    "    out_data = re.sub(pattern=\"\\n[0-9]{2}:[0-9]{2}\", repl=\"\", string=data)\n",
    "    out_data = re.sub(pattern=\"\\n\", repl=\" \", string=out_data)\n",
    "    outfile.write(out_data)"
   ]
  },
  {
   "cell_type": "code",
   "execution_count": null,
   "metadata": {},
   "outputs": [],
   "source": []
  }
 ],
 "metadata": {
  "kernelspec": {
   "display_name": "Python 3",
   "language": "python",
   "name": "python3"
  },
  "language_info": {
   "codemirror_mode": {
    "name": "ipython",
    "version": 3
   },
   "file_extension": ".py",
   "mimetype": "text/x-python",
   "name": "python",
   "nbconvert_exporter": "python",
   "pygments_lexer": "ipython3",
   "version": "3.8.3"
  }
 },
 "nbformat": 4,
 "nbformat_minor": 4
}
